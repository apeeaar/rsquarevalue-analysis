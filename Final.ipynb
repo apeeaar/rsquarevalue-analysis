{
 "cells": [
  {
   "cell_type": "code",
   "execution_count": 17,
   "metadata": {},
   "outputs": [
    {
     "name": "stdout",
     "output_type": "stream",
     "text": [
      "Categories\n",
      "Unnamed: 0\n",
      "bengali\n",
      "Dine-in\n",
      "Beverages\n",
      "Desserts\n",
      "kannada\n",
      "telugu\n",
      "hindi\n",
      "speed\n",
      "gujarati\n",
      "25_35\n",
      "marathi\n",
      "assamese\n",
      "gender ratio\n",
      "volume\n",
      "70_100\n",
      "Fast Food\n",
      "tamil\n",
      "sindhi\n",
      "marwari\n",
      "18_25\n",
      "Bakery\n",
      "oriya\n",
      "Cafe\n",
      "urdu\n",
      "50_70\n",
      "35_50\n",
      "punjabi\n",
      "population\n",
      "malayalam\n",
      "store_id\n",
      "\n",
      "Your X Axis bengali\n",
      "\n",
      "Your Y Axis hindi\n",
      "\n",
      "R2 square Coefficient: \n"
     ]
    },
    {
     "data": {
      "text/plain": [
       "0.6573204112192322"
      ]
     },
     "execution_count": 17,
     "metadata": {},
     "output_type": "execute_result"
    },
    {
     "data": {
      "image/png": "[encoded data removed]",
      "text/plain": [
       "<Figure size 432x288 with 1 Axes>"
      ]
     },
     "metadata": {
      "needs_background": "light"
     },
     "output_type": "display_data"
    }
   ],
   "source": [
    "#main\n",
    "#importing DATASET\n",
    "import pandas as pd\n",
    "dataset=  pd.read_csv(\"analyse1.csv\",index_col = False)\n",
    "dataset=dataset.drop(\"TAP index\",axis=1)\n",
    "dataset=dataset.drop(\"tindex\",axis=1)\n",
    "dataset=dataset.drop(\"MAP index\",axis=1)\n",
    "import matplotlib.pyplot as plt\n",
    "\n",
    "#Manipulating categories\n",
    "cat=[]\n",
    "cols=pd.read_csv(\"analyse1.csv\", nrows=1,index_col = False).columns\n",
    "cols=cols.drop(\"TAP index\")\n",
    "cols=cols.drop(\"tindex\")\n",
    "cols=cols.drop(\"MAP index\")\n",
    "for i in cols:\n",
    "    cat.append(i)\n",
    "#storing categories in dictionary\n",
    "cat.pop()\n",
    "dic={}\n",
    "num=0\n",
    "for i in cat:\n",
    "        dic[i]=num\n",
    "        num+=1\n",
    "        \n",
    "#Functions       \n",
    "def coeff(w):\n",
    "    print(\"\\nR2 square Coefficient: \")\n",
    "    return w \n",
    "\n",
    "def graph(ax,ay,az):\n",
    "    az.plot(x=ax, y=ay, kind=\"line\",color=\"red\")\n",
    "\n",
    "#input for categories\n",
    "print(\"Categories\")\n",
    "for i in dic.keys():\n",
    "    print(i)\n",
    "inp1=str(input(\"\\nYour X Axis \"))\n",
    "cat1=dic[inp1]\n",
    "inp2=str(input(\"\\nYour Y Axis \"))\n",
    "cat2=dic[inp2]\n",
    "scat=dataset.iloc[:,[cat1,cat2]]\n",
    "mean=scat[inp2].mean()\n",
    "\n",
    "#creating dataset c for R Squared Value computation\n",
    "c=dataset.iloc[:,[cat1,cat2]].copy()\n",
    "c['bar']=''\n",
    "lst=[]\n",
    "for i in c[inp2]:\n",
    "    lst.append(i)\n",
    "for i in range(len(lst)):\n",
    "    lst[i]=mean-lst[i]   \n",
    "c['bar']=lst\n",
    "c['bar2']=c['bar']**2\n",
    "\n",
    "#creating dataset reg for Regression analysis \n",
    "reg=dataset.iloc[:,[cat1,cat2]].copy()\n",
    "reg['xy']=reg[inp1]*reg[inp2]\n",
    "reg['x2']=reg[inp1]**2\n",
    "reg['y2']=reg[inp2]**2\n",
    "x=[]\n",
    "y=[]\n",
    "xy=[]\n",
    "n=len(cat)\n",
    "xx=[]\n",
    "yy=[]\n",
    "\n",
    "for i in reg[inp1]:\n",
    "    x.append(i)\n",
    "for i in reg[inp2]:\n",
    "    y.append(i)\n",
    "for i in reg['xy']:\n",
    "    xy.append(i)\n",
    "for i in reg['x2']:\n",
    "    xx.append(i)\n",
    "for i in reg['y2']:\n",
    "    xx.append(i)    \n",
    "\n",
    "#computation for regression\n",
    "sumx=sum(x)\n",
    "sumy=sum(y)\n",
    "sumxy=sum(xy)\n",
    "sumxx=sum(xx)\n",
    "sumyy=sum(yy)\n",
    "        \n",
    "p=sumy*sumxx\n",
    "q=sumx*sumxy\n",
    "r=n*sumxx\n",
    "s=sumx*sumx\n",
    "t=n*sumxy\n",
    "u=sumx*sumy\n",
    "\n",
    "#Obtaining regression line constants\n",
    "A=((p-q)/(r-s))\n",
    "B=((t-u)/(r-s))\n",
    "\n",
    "#computation for R Squared Value\n",
    "c['lol']=A+c[inp1]*B\n",
    "c['lol2']=c['lol']-mean\n",
    "c['lol3']=c['lol2']**2\n",
    "lst1=[]\n",
    "for i in c[\"bar2\"]:\n",
    "    lst1.append(i)\n",
    "lst2=[]\n",
    "for i in c[\"lol3\"]:\n",
    "    lst2.append(i)\n",
    "mod1=sum(lst1)\n",
    "mod2=sum(lst2)   \n",
    "R=mod2/mod1        \n",
    "\n",
    "\n",
    "graph(inp1,inp2,c)\n",
    "coeff(R)\n",
    "\n",
    "   "
   ]
  },
  {
   "cell_type": "code",
   "execution_count": 23,
   "metadata": {},
   "outputs": [],
   "source": []
  },
  {
   "cell_type": "code",
   "execution_count": 24,
   "metadata": {},
   "outputs": [
    {
     "data": {
      "text/plain": [
       "0.2755170291262465"
      ]
     },
     "execution_count": 24,
     "metadata": {},
     "output_type": "execute_result"
    }
   ],
   "source": []
  },
  {
   "cell_type": "code",
   "execution_count": 9,
   "metadata": {},
   "outputs": [],
   "source": []
  },
  {
   "cell_type": "code",
   "execution_count": 14,
   "metadata": {},
   "outputs": [],
   "source": []
  },
  {
   "cell_type": "code",
   "execution_count": null,
   "metadata": {},
   "outputs": [],
   "source": []
  }
 ],
 "metadata": {
  "kernelspec": {
   "display_name": "Python 3",
   "language": "python",
   "name": "python3"
  },
  "language_info": {
   "codemirror_mode": {
    "name": "ipython",
    "version": 3
   },
   "file_extension": ".py",
   "mimetype": "text/x-python",
   "name": "python",
   "nbconvert_exporter": "python",
   "pygments_lexer": "ipython3",
   "version": "3.6.8"
  }
 },
 "nbformat": 4,
 "nbformat_minor": 2
}
